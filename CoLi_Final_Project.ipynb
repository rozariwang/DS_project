{
  "nbformat": 4,
  "nbformat_minor": 0,
  "metadata": {
    "colab": {
      "provenance": [],
      "authorship_tag": "ABX9TyNLLusZr6A1fwmlEnITxXca",
      "include_colab_link": true
    },
    "kernelspec": {
      "name": "python3",
      "display_name": "Python 3"
    },
    "language_info": {
      "name": "python"
    }
  },
  "cells": [
    {
      "cell_type": "markdown",
      "metadata": {
        "id": "view-in-github",
        "colab_type": "text"
      },
      "source": [
        "<a href=\"https://colab.research.google.com/github/rozariwang/DS_project/blob/main/CoLi_Final_Project.ipynb\" target=\"_parent\"><img src=\"https://colab.research.google.com/assets/colab-badge.svg\" alt=\"Open In Colab\"/></a>"
      ]
    },
    {
      "cell_type": "code",
      "execution_count": 1,
      "metadata": {
        "colab": {
          "base_uri": "https://localhost:8080/"
        },
        "id": "Ljsl3PzrUPM_",
        "outputId": "73c756c8-4adf-4931-d5a0-9507097934e5"
      },
      "outputs": [
        {
          "output_type": "stream",
          "name": "stdout",
          "text": [
            "Requirement already satisfied: requests in /usr/local/lib/python3.10/dist-packages (2.31.0)\n",
            "Collecting conllu\n",
            "  Downloading conllu-4.5.3-py2.py3-none-any.whl (16 kB)\n",
            "Requirement already satisfied: charset-normalizer<4,>=2 in /usr/local/lib/python3.10/dist-packages (from requests) (3.3.2)\n",
            "Requirement already satisfied: idna<4,>=2.5 in /usr/local/lib/python3.10/dist-packages (from requests) (3.6)\n",
            "Requirement already satisfied: urllib3<3,>=1.21.1 in /usr/local/lib/python3.10/dist-packages (from requests) (2.0.7)\n",
            "Requirement already satisfied: certifi>=2017.4.17 in /usr/local/lib/python3.10/dist-packages (from requests) (2024.2.2)\n",
            "Installing collected packages: conllu\n",
            "Successfully installed conllu-4.5.3\n"
          ]
        }
      ],
      "source": [
        "pip install requests conllu\n"
      ]
    },
    {
      "cell_type": "code",
      "source": [
        "import requests\n",
        "from conllu import parse\n",
        "from io import StringIO"
      ],
      "metadata": {
        "id": "uDjB0zfOKbCi"
      },
      "execution_count": 2,
      "outputs": []
    },
    {
      "cell_type": "markdown",
      "source": [
        "Link to UD_Chinese-GSD repository: https://github.com/UniversalDependencies/UD_Chinese-GSD\n",
        "\n",
        "Description: UD_Chinese-GSD is a traditional Chinese Universal Dependencies Treebank annotated and converted by Google."
      ],
      "metadata": {
        "id": "QpMCMsBvMkJm"
      }
    },
    {
      "cell_type": "code",
      "source": [
        "links_to_datasets = {\n",
        "    \"train\": \"https://raw.githubusercontent.com/UniversalDependencies/UD_Chinese-GSD/master/zh_gsd-ud-train.conllu\",\n",
        "    \"test\": \"https://raw.githubusercontent.com/UniversalDependencies/UD_Chinese-GSD/master/zh_gsd-ud-test.conllu\",\n",
        "    \"dev\": \"https://raw.githubusercontent.com/UniversalDependencies/UD_Chinese-GSD/master/zh_gsd-ud-dev.conllu\",\n",
        "}\n",
        "\n",
        "def download_and_parse(url):\n",
        "    response = requests.get(url)\n",
        "    response.raise_for_status()\n",
        "    file_content = response.text\n",
        "    parsed_data = parse(file_content)\n",
        "    return parsed_data\n",
        "\n",
        "# Column headers and descriptions\n",
        "columns_info = {\n",
        "    \"ID\": \"Token ID, integer or decimal for multiword tokens\",\n",
        "    \"FORM\": \"Form or spelling of the word\",\n",
        "    \"LEMMA\": \"Lemma or base form of the word\",\n",
        "    \"UPOS\": \"Universal Part-of-Speech tag\",\n",
        "    \"XPOS\": \"Language-specific part-of-speech tag\",\n",
        "    \"FEATS\": \"Morphological features\",\n",
        "    \"HEAD\": \"Head of the current token in a dependency parse\",\n",
        "    \"DEPREL\": \"Dependency relation to the HEAD\",\n",
        "    \"DEPS\": \"Enhanced dependency graph\",\n",
        "    \"MISC\": \"Any other annotation\"\n",
        "}\n",
        "\n",
        "datasets = {name: download_and_parse(url) for name, url in links_to_datasets.items()}\n",
        "\n",
        "# Print column information\n",
        "print(\"CoNLL-U Format Columns:\")\n",
        "for column, description in columns_info.items():\n",
        "    print(f\"{column}: {description}\")\n",
        "print(\"\\n---\\n\")\n",
        "\n",
        "# Print dataset information\n",
        "for name, data in datasets.items():\n",
        "    print(f\"Dataset: {name}, Sentences: {len(data)}\")\n",
        "    if data:\n",
        "        first_sentence = data[0]\n",
        "        print(f\"# sent_id = {first_sentence.metadata['sent_id']}\")\n",
        "        print(f\"# text = {first_sentence.metadata['text']}\")\n",
        "        if 'translit' in first_sentence.metadata:\n",
        "            print(f\"# translit = {first_sentence.metadata['translit']}\")\n",
        "        for token in first_sentence:\n",
        "            print(f\"{token['id']}\\t{token['form']}\\t{token['lemma']}\\t{token['upos']}\\t{token['xpos']}\\t{'_'}\\t{token.get('head', '_')}\\t{token['deprel']}\\t{'_'}\\t{'|'.join([f'{k}={v}' for k, v in token['misc'].items()]) if token['misc'] else '_'}\")\n",
        "    print(\"\\n---\\n\")"
      ],
      "metadata": {
        "colab": {
          "base_uri": "https://localhost:8080/"
        },
        "id": "A7Qnvk5AKlLc",
        "outputId": "9671794c-3d76-4463-91d9-564b85dd1d95"
      },
      "execution_count": 10,
      "outputs": [
        {
          "output_type": "stream",
          "name": "stdout",
          "text": [
            "CoNLL-U Format Columns:\n",
            "ID: Token ID, integer or decimal for multiword tokens\n",
            "FORM: Form or spelling of the word\n",
            "LEMMA: Lemma or base form of the word\n",
            "UPOS: Universal Part-of-Speech tag\n",
            "XPOS: Language-specific part-of-speech tag\n",
            "FEATS: Morphological features\n",
            "HEAD: Head of the current token in a dependency parse\n",
            "DEPREL: Dependency relation to the HEAD\n",
            "DEPS: Enhanced dependency graph\n",
            "MISC: Any other annotation\n",
            "\n",
            "---\n",
            "\n",
            "Dataset: train, Sentences: 3997\n",
            "# sent_id = train-s1\n",
            "# text = 看似簡單，只是二選一做決擇，但其實他們代表的是你周遭的親朋好友，試著給你不同的意見，但追根究底，最後決定的還是自己。\n",
            "# translit = kànshìjiǎndān,zhǐshì'èrxuǎnyīzuòjuézé,dànqíshítāmendàibiǎodeshìnǐzhōuzāodeqīnpénghǎoyou,shìzhegěinǐbùtóngdeyìjiàn,dànzhuīgēnjiūdǐ,zuìhòujuédìngdeháishìzìjǐ.\n",
            "1\t看似\t看似\tVERB\tVV\t_\t5\tadvcl\t_\tSpaceAfter=No|Translit=kànshì|LTranslit=kànshì\n",
            "2\t簡單\t簡單\tADJ\tJJ\t_\t1\txcomp\t_\tSpaceAfter=No|Translit=jiǎndān|LTranslit=jiǎndān\n",
            "3\t，\t，\tPUNCT\t,\t_\t1\tpunct\t_\tSpaceAfter=No|Translit=,|LTranslit=,\n",
            "4\t只\t只\tADV\tRB\t_\t5\tadvmod\t_\tSpaceAfter=No|Translit=zhǐ|LTranslit=zhǐ\n",
            "5\t是\t是\tVERB\tVC\t_\t0\troot\t_\tSpaceAfter=No|Translit=shì|LTranslit=shì\n",
            "6\t二\t二\tNUM\tCD\t_\t7\tobl\t_\tSpaceAfter=No|Translit='èr|LTranslit='èr\n",
            "7\t選\t選\tVERB\tVV\t_\t9\tadvcl\t_\tSpaceAfter=No|Translit=xuǎn|LTranslit=xuǎn\n",
            "8\t一\t一\tNUM\tCD\t_\t7\tobj\t_\tSpaceAfter=No|Translit=yī|LTranslit=yī\n",
            "9\t做\t做\tVERB\tVV\t_\t5\txcomp\t_\tSpaceAfter=No|Translit=zuò|LTranslit=zuò\n",
            "10\t決擇\t決擇\tNOUN\tNN\t_\t9\tobj\t_\tSpaceAfter=No|Translit=juézé|LTranslit=juézé\n",
            "11\t，\t，\tPUNCT\t,\t_\t22\tpunct\t_\tSpaceAfter=No|Translit=,|LTranslit=,\n",
            "12\t但\t但\tSCONJ\tRB\t_\t22\tmark\t_\tSpaceAfter=No|Translit=dàn|LTranslit=dàn\n",
            "13\t其實\t其實\tADV\tRB\t_\t22\tadvmod\t_\tSpaceAfter=No|Translit=qíshí|LTranslit=qíshí\n",
            "14\t他們\t他\tPRON\tPRP\t_\t15\tnsubj\t_\tSpaceAfter=No|Translit=tāmen|LTranslit=tā\n",
            "15\t代表\t代表\tVERB\tVV\t_\t22\tcsubj\t_\tSpaceAfter=No|Translit=dàibiǎo|LTranslit=dàibiǎo\n",
            "16\t的\t的\tSCONJ\tDEC\t_\t15\tmark:rel\t_\tSpaceAfter=No|Translit=de|LTranslit=de\n",
            "17\t是\t是\tAUX\tVC\t_\t22\tcop\t_\tSpaceAfter=No|Translit=shì|LTranslit=shì\n",
            "18\t你\t你\tPRON\tPRP\t_\t19\tnsubj\t_\tSpaceAfter=No|Translit=nǐ|LTranslit=nǐ\n",
            "19\t周遭\t周遭\tNOUN\tNN\t_\t22\tnmod\t_\tSpaceAfter=No|Translit=zhōuzāo|LTranslit=zhōuzāo\n",
            "20\t的\t的\tPART\tDEC\t_\t19\tcase\t_\tSpaceAfter=No|Translit=de|LTranslit=de\n",
            "21\t親朋\t親朋\tNOUN\tNN\t_\t22\tnmod\t_\tSpaceAfter=No|Translit=qīnpéng|LTranslit=qīnpéng\n",
            "22\t好友\t好友\tNOUN\tNN\t_\t5\tparataxis\t_\tSpaceAfter=No|Translit=hǎoyou|LTranslit=hǎoyou\n",
            "23\t，\t，\tPUNCT\t,\t_\t24\tpunct\t_\tSpaceAfter=No|Translit=,|LTranslit=,\n",
            "24\t試\t試\tVERB\tVV\t_\t5\tparataxis\t_\tSpaceAfter=No|Translit=shì|LTranslit=shì\n",
            "25\t著\t著\tAUX\tAS\t_\t24\taux\t_\tSpaceAfter=No|Translit=zhe|LTranslit=zhe\n",
            "26\t給\t給\tVERB\tVV\t_\t24\txcomp\t_\tSpaceAfter=No|Translit=gěi|LTranslit=gěi\n",
            "27\t你\t你\tPRON\tPRP\t_\t26\tiobj\t_\tSpaceAfter=No|Translit=nǐ|LTranslit=nǐ\n",
            "28\t不同\t不同\tADJ\tJJ\t_\t30\tamod\t_\tSpaceAfter=No|Translit=bùtóng|LTranslit=bùtóng\n",
            "29\t的\t的\tSCONJ\tDEC\t_\t28\tmark:rel\t_\tSpaceAfter=No|Translit=de|LTranslit=de\n",
            "30\t意見\t意見\tNOUN\tNN\t_\t26\tobj\t_\tSpaceAfter=No|Translit=yìjiàn|LTranslit=yìjiàn\n",
            "31\t，\t，\tPUNCT\t,\t_\t39\tpunct\t_\tSpaceAfter=No|Translit=,|LTranslit=,\n",
            "32\t但\t但\tSCONJ\tRB\t_\t39\tmark\t_\tSpaceAfter=No|Translit=dàn|LTranslit=dàn\n",
            "33\t追根究底\t追根究底\tVERB\tVV\t_\t39\tacl\t_\tSpaceAfter=No|Translit=zhuīgēnjiūdǐ|LTranslit=zhuīgēnjiūdǐ\n",
            "34\t，\t，\tPUNCT\t,\t_\t33\tpunct\t_\tSpaceAfter=No|Translit=,|LTranslit=,\n",
            "35\t最後\t最後\tNOUN\tNN\t_\t36\tnmod:tmod\t_\tSpaceAfter=No|Translit=zuìhòu|LTranslit=zuìhòu\n",
            "36\t決定\t決定\tVERB\tVV\t_\t39\tcsubj\t_\tSpaceAfter=No|Translit=juédìng|LTranslit=juédìng\n",
            "37\t的\t的\tSCONJ\tDEC\t_\t36\tmark:rel\t_\tSpaceAfter=No|Translit=de|LTranslit=de\n",
            "38\t還是\t是\tAUX\tVC\t_\t39\tcop\t_\tSpaceAfter=No|Translit=háishì|LTranslit=shì\n",
            "39\t自己\t自己\tPRON\tPRD\t_\t5\tparataxis\t_\tSpaceAfter=No|Translit=zìjǐ|LTranslit=zìjǐ\n",
            "40\t。\t。\tPUNCT\t.\t_\t5\tpunct\t_\tSpaceAfter=No|Translit=.|LTranslit=.\n",
            "\n",
            "---\n",
            "\n",
            "Dataset: test, Sentences: 500\n",
            "# sent_id = test-s1\n",
            "# text = 然而，這樣的處理也衍生了一些問題。\n",
            "# translit = rán'ér,zhèyàngdechùlǐyěyǎnshēngleyīxiēwèntí.\n",
            "1\t然而\t然而\tSCONJ\tRB\t_\t7\tmark\t_\tSpaceAfter=No|Translit=rán'ér|LTranslit=rán'ér\n",
            "2\t，\t，\tPUNCT\t,\t_\t1\tpunct\t_\tSpaceAfter=No|Translit=,|LTranslit=,\n",
            "3\t這樣\t這樣\tPRON\tPRD\t_\t5\tdet\t_\tSpaceAfter=No|Translit=zhèyàng|LTranslit=zhèyàng\n",
            "4\t的\t的\tPART\tDEC\t_\t3\tcase\t_\tSpaceAfter=No|Translit=de|LTranslit=de\n",
            "5\t處理\t處理\tNOUN\tNN\t_\t7\tnsubj\t_\tSpaceAfter=No|Translit=chùlǐ|LTranslit=chùlǐ\n",
            "6\t也\t也\tSCONJ\tRB\t_\t7\tmark\t_\tSpaceAfter=No|Translit=yě|LTranslit=yě\n",
            "7\t衍生\t衍生\tVERB\tVV\t_\t0\troot\t_\tSpaceAfter=No|Translit=yǎnshēng|LTranslit=yǎnshēng\n",
            "8\t了\t了\tAUX\tAS\t_\t7\taux\t_\tSpaceAfter=No|Translit=le|LTranslit=le\n",
            "9\t一些\t一些\tADJ\tJJ\t_\t10\tamod\t_\tSpaceAfter=No|Translit=yīxiē|LTranslit=yīxiē\n",
            "10\t問題\t問題\tNOUN\tNN\t_\t7\tobj\t_\tSpaceAfter=No|Translit=wèntí|LTranslit=wèntí\n",
            "11\t。\t。\tPUNCT\t.\t_\t7\tpunct\t_\tSpaceAfter=No|Translit=.|LTranslit=.\n",
            "\n",
            "---\n",
            "\n",
            "Dataset: dev, Sentences: 500\n",
            "# sent_id = dev-s1\n",
            "# text = 同樣，施力的大小不同，引起的加速度不同，最終的結果也不一樣，亦可以從向量的加成性來看。\n",
            "# translit = tóngyàng,shīlìdedàxiǎobùtóng,yǐnqǐdejiāsùdùbùtóng,zuìzhōngdejiéguǒyěbùyīyàng,yìkěyǐcóngxiàngliàngdejiāchéngxìngláikàn.\n",
            "1\t同樣\t同樣\tADV\tRB\t_\t12\tadvmod\t_\tSpaceAfter=No|Translit=tóngyàng|LTranslit=tóngyàng\n",
            "2\t，\t，\tPUNCT\t,\t_\t1\tpunct\t_\tSpaceAfter=No|Translit=,|LTranslit=,\n",
            "3\t施力\t施力\tVERB\tVV\t_\t5\tacl:relcl\t_\tSpaceAfter=No|Translit=shīlì|LTranslit=shīlì\n",
            "4\t的\t的\tSCONJ\tDEC\t_\t3\tmark:rel\t_\tSpaceAfter=No|Translit=de|LTranslit=de\n",
            "5\t大小\t大小\tNOUN\tNN\t_\t6\tnsubj\t_\tSpaceAfter=No|Translit=dàxiǎo|LTranslit=dàxiǎo\n",
            "6\t不同\t不同\tADJ\tJJ\t_\t8\tcsubj\t_\tSpaceAfter=No|Translit=bùtóng|LTranslit=bùtóng\n",
            "7\t，\t，\tPUNCT\t,\t_\t6\tpunct\t_\tSpaceAfter=No|Translit=,|LTranslit=,\n",
            "8\t引起\t引起\tVERB\tVV\t_\t11\tacl:relcl\t_\tSpaceAfter=No|Translit=yǐnqǐ|LTranslit=yǐnqǐ\n",
            "9\t的\t的\tSCONJ\tDEC\t_\t8\tmark:rel\t_\tSpaceAfter=No|Translit=de|LTranslit=de\n",
            "10\t加速\t加速\tVERB\tVV\t_\t11\tcompound\t_\tSpaceAfter=No|Translit=jiāsù|LTranslit=jiāsù\n",
            "11\t度\t度\tPART\tSFN\t_\t12\tnsubj\t_\tSpaceAfter=No|Translit=dù|LTranslit=dù\n",
            "12\t不同\t不同\tADJ\tJJ\t_\t0\troot\t_\tSpaceAfter=No|Translit=bùtóng|LTranslit=bùtóng\n",
            "13\t，\t，\tPUNCT\t,\t_\t29\tpunct\t_\tSpaceAfter=No|Translit=,|LTranslit=,\n",
            "14\t最終\t最終\tNOUN\tNN\t_\t16\tnmod\t_\tSpaceAfter=No|Translit=zuìzhōng|LTranslit=zuìzhōng\n",
            "15\t的\t的\tPART\tDEC\t_\t14\tcase\t_\tSpaceAfter=No|Translit=de|LTranslit=de\n",
            "16\t結果\t結果\tNOUN\tNN\t_\t29\tnsubj\t_\tSpaceAfter=No|Translit=jiéguǒ|LTranslit=jiéguǒ\n",
            "17\t也\t也\tSCONJ\tRB\t_\t19\tmark\t_\tSpaceAfter=No|Translit=yě|LTranslit=yě\n",
            "18\t不\t不\tADV\tRB\t_\t19\tadvmod\t_\tSpaceAfter=No|Translit=bù|LTranslit=bù\n",
            "19\t一樣\t一樣\tADJ\tJJ\t_\t29\tadvcl\t_\tSpaceAfter=No|Translit=yīyàng|LTranslit=yīyàng\n",
            "20\t，\t，\tPUNCT\t,\t_\t19\tpunct\t_\tSpaceAfter=No|Translit=,|LTranslit=,\n",
            "21\t亦\t亦\tSCONJ\tRB\t_\t29\tmark\t_\tSpaceAfter=No|Translit=yì|LTranslit=yì\n",
            "22\t可以\t可以\tAUX\tMD\t_\t29\taux\t_\tSpaceAfter=No|Translit=kěyǐ|LTranslit=kěyǐ\n",
            "23\t從\t從\tADP\tIN\t_\t27\tcase\t_\tSpaceAfter=No|Translit=cóng|LTranslit=cóng\n",
            "24\t向量\t向量\tNOUN\tNN\t_\t27\tnmod\t_\tSpaceAfter=No|Translit=xiàngliàng|LTranslit=xiàngliàng\n",
            "25\t的\t的\tPART\tDEC\t_\t24\tcase\t_\tSpaceAfter=No|Translit=de|LTranslit=de\n",
            "26\t加成\t加成\tVERB\tVV\t_\t27\tcompound\t_\tSpaceAfter=No|Translit=jiāchéng|LTranslit=jiāchéng\n",
            "27\t性\t性\tPART\tSFN\t_\t29\tobl\t_\tSpaceAfter=No|Translit=xìng|LTranslit=xìng\n",
            "28\t來\t來\tSCONJ\tRB\t_\t29\tmark\t_\tSpaceAfter=No|Translit=lái|LTranslit=lái\n",
            "29\t看\t看\tVERB\tVV\t_\t12\tparataxis\t_\tSpaceAfter=No|Translit=kàn|LTranslit=kàn\n",
            "30\t。\t。\tPUNCT\t.\t_\t12\tpunct\t_\tSpaceAfter=No|Translit=.|LTranslit=.\n",
            "\n",
            "---\n",
            "\n"
          ]
        }
      ]
    }
  ]
}